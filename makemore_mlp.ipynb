{
  "nbformat": 4,
  "nbformat_minor": 0,
  "metadata": {
    "colab": {
      "provenance": [],
      "authorship_tag": "ABX9TyOgrcjFtKzyET0eUwBJyRCp",
      "include_colab_link": true
    },
    "kernelspec": {
      "name": "python3",
      "display_name": "Python 3"
    },
    "language_info": {
      "name": "python"
    }
  },
  "cells": [
    {
      "cell_type": "markdown",
      "metadata": {
        "id": "view-in-github",
        "colab_type": "text"
      },
      "source": [
        "<a href=\"https://colab.research.google.com/github/ameyaa/makemore_mlp/blob/main/makemore_mlp.ipynb\" target=\"_parent\"><img src=\"https://colab.research.google.com/assets/colab-badge.svg\" alt=\"Open In Colab\"/></a>"
      ]
    },
    {
      "cell_type": "code",
      "execution_count": 1,
      "metadata": {
        "id": "KhV62VeWlEXZ"
      },
      "outputs": [],
      "source": [
        "import torch\n",
        "import torch.nn.functional as F\n",
        "import matplotlib.pyplot as plt\n",
        "%matplotlib inline"
      ]
    },
    {
      "cell_type": "code",
      "source": [
        "words = open('names.txt', 'r').read().splitlines()\n",
        "print(words[:5])\n",
        "print(len(words))"
      ],
      "metadata": {
        "colab": {
          "base_uri": "https://localhost:8080/"
        },
        "id": "nIH-7xZ8mo-M",
        "outputId": "9da61653-b910-48ac-ab5b-e81d144becd9"
      },
      "execution_count": 3,
      "outputs": [
        {
          "output_type": "stream",
          "name": "stdout",
          "text": [
            "['emma', 'olivia', 'ava', 'isabella', 'sophia']\n",
            "32033\n"
          ]
        }
      ]
    },
    {
      "cell_type": "code",
      "source": [
        "# vocabulary of chars in dataset and mapping to/from integers\n",
        "chars = sorted(list(set(''.join(words))))\n",
        "stoi = {c:i+1 for i, c in enumerate(chars)}\n",
        "stoi['.'] = 0\n",
        "SZ = len(stoi)\n",
        "itos = {i:c for c, i in stoi.items()}\n",
        "print(itos)\n",
        "print('SZ: ', SZ)"
      ],
      "metadata": {
        "colab": {
          "base_uri": "https://localhost:8080/"
        },
        "id": "wR3voeWhmyE5",
        "outputId": "dbf4b693-1166-4e65-b29c-bb5ce8ded755"
      },
      "execution_count": 4,
      "outputs": [
        {
          "output_type": "stream",
          "name": "stdout",
          "text": [
            "{1: 'a', 2: 'b', 3: 'c', 4: 'd', 5: 'e', 6: 'f', 7: 'g', 8: 'h', 9: 'i', 10: 'j', 11: 'k', 12: 'l', 13: 'm', 14: 'n', 15: 'o', 16: 'p', 17: 'q', 18: 'r', 19: 's', 20: 't', 21: 'u', 22: 'v', 23: 'w', 24: 'x', 25: 'y', 26: 'z', 0: '.'}\n",
            "SZ:  27\n"
          ]
        }
      ]
    },
    {
      "cell_type": "code",
      "source": [
        "# build the dataset\n",
        "block_sz = 3\n",
        "X, Y = [], []\n",
        "for w in words[:5]:\n",
        "  #print(w)\n",
        "  context = [0] * block_sz\n",
        "  for c in w + '.':\n",
        "    ix = stoi[c]\n",
        "    X.append(context)\n",
        "    Y.append(ix)\n",
        "    #print(''.join(itos[i] for i in context), '----->', itos[ix])\n",
        "    context = context[1:] + [ix]\n",
        "\n",
        "X = torch.tensor(X)\n",
        "Y = torch.tensor(Y)"
      ],
      "metadata": {
        "id": "L5cK5z4W-5NK"
      },
      "execution_count": 5,
      "outputs": []
    },
    {
      "cell_type": "code",
      "source": [
        "X.shape, X.dtype, Y.shape, Y.dtype"
      ],
      "metadata": {
        "colab": {
          "base_uri": "https://localhost:8080/"
        },
        "id": "uOl0XY9Lu7Rh",
        "outputId": "56286580-efee-465c-d15b-db40938900e8"
      },
      "execution_count": 6,
      "outputs": [
        {
          "output_type": "execute_result",
          "data": {
            "text/plain": [
              "(torch.Size([32, 3]), torch.int64, torch.Size([32]), torch.int64)"
            ]
          },
          "metadata": {},
          "execution_count": 6
        }
      ]
    },
    {
      "cell_type": "code",
      "source": [
        "# embeddings - embed 27 possible chars into 2-dimensional space\n",
        "C = torch.randn((SZ, 2))  # aka lookup table\n",
        "C"
      ],
      "metadata": {
        "colab": {
          "base_uri": "https://localhost:8080/"
        },
        "id": "CYw9XH1r-QNH",
        "outputId": "93e05852-077c-4c5a-84e0-108bc9237c92"
      },
      "execution_count": 7,
      "outputs": [
        {
          "output_type": "execute_result",
          "data": {
            "text/plain": [
              "tensor([[-0.7093, -1.5284],\n",
              "        [ 0.6025,  0.4125],\n",
              "        [-0.6243, -1.9668],\n",
              "        [-1.7884, -0.2589],\n",
              "        [ 1.1732,  2.2910],\n",
              "        [-0.0618, -0.0953],\n",
              "        [-0.3574, -0.3441],\n",
              "        [-0.1733,  0.5318],\n",
              "        [ 0.2233,  0.9138],\n",
              "        [-2.3328, -0.1922],\n",
              "        [ 1.3006, -0.3693],\n",
              "        [-0.4751, -0.9409],\n",
              "        [ 2.8055, -0.6441],\n",
              "        [ 0.9960,  0.8637],\n",
              "        [ 1.1519,  0.5445],\n",
              "        [ 0.4819, -1.2415],\n",
              "        [ 0.2776, -0.9697],\n",
              "        [-1.5124,  0.2444],\n",
              "        [ 0.2458, -1.1472],\n",
              "        [-0.5072,  0.3090],\n",
              "        [ 1.0662,  0.6764],\n",
              "        [-1.5368, -1.1341],\n",
              "        [ 0.1960, -0.9737],\n",
              "        [ 1.2494, -0.3367],\n",
              "        [-0.2439, -0.3553],\n",
              "        [ 0.2264, -0.3832],\n",
              "        [ 0.2204,  0.6706]])"
            ]
          },
          "metadata": {},
          "execution_count": 7
        }
      ]
    },
    {
      "cell_type": "code",
      "source": [
        "# Example - how to embed an integer 5 into 27 x 2 dimensional tensor\n",
        "print(C[5])  # method 1 - simpler/faster/preferred\n",
        "# method 2 - dot product\n",
        "oh = F.one_hot(torch.tensor(5), num_classes=SZ).float()\n",
        "print(oh)\n",
        "oh @ C"
      ],
      "metadata": {
        "colab": {
          "base_uri": "https://localhost:8080/"
        },
        "id": "epYuwAyL_Fv_",
        "outputId": "34d13848-0cad-4bf3-e91c-bb01558114c4"
      },
      "execution_count": 8,
      "outputs": [
        {
          "output_type": "stream",
          "name": "stdout",
          "text": [
            "tensor([-0.0618, -0.0953])\n",
            "tensor([0., 0., 0., 0., 0., 1., 0., 0., 0., 0., 0., 0., 0., 0., 0., 0., 0., 0.,\n",
            "        0., 0., 0., 0., 0., 0., 0., 0., 0.])\n"
          ]
        },
        {
          "output_type": "execute_result",
          "data": {
            "text/plain": [
              "tensor([-0.0618, -0.0953])"
            ]
          },
          "metadata": {},
          "execution_count": 8
        }
      ]
    },
    {
      "cell_type": "code",
      "source": [
        "# how to embed X in C --> just do C[X]\n",
        "print('C shape: ', C.shape)\n",
        "print('X shape: ', X.shape)\n",
        "print('C[X] shape: ', C[X].shape)\n",
        "print(X[13])\n",
        "print(X[13,2])\n",
        "print(C[X][13])\n",
        "print(C[X][13,2])"
      ],
      "metadata": {
        "colab": {
          "base_uri": "https://localhost:8080/"
        },
        "id": "KKPp_Io6_-9a",
        "outputId": "e36a4437-f426-414d-d642-5eb04c8f79b4"
      },
      "execution_count": 9,
      "outputs": [
        {
          "output_type": "stream",
          "name": "stdout",
          "text": [
            "C shape:  torch.Size([27, 2])\n",
            "X shape:  torch.Size([32, 3])\n",
            "C[X] shape:  torch.Size([32, 3, 2])\n",
            "tensor([0, 0, 1])\n",
            "tensor(1)\n",
            "tensor([[-0.7093, -1.5284],\n",
            "        [-0.7093, -1.5284],\n",
            "        [ 0.6025,  0.4125]])\n",
            "tensor([0.6025, 0.4125])\n"
          ]
        }
      ]
    },
    {
      "cell_type": "code",
      "source": [
        "# embed input X into C\n",
        "emb = C[X]\n",
        "emb.shape"
      ],
      "metadata": {
        "colab": {
          "base_uri": "https://localhost:8080/"
        },
        "id": "HjY80PylrDk0",
        "outputId": "41c54380-584d-4203-8534-426d058f7c3c"
      },
      "execution_count": 10,
      "outputs": [
        {
          "output_type": "execute_result",
          "data": {
            "text/plain": [
              "torch.Size([32, 3, 2])"
            ]
          },
          "metadata": {},
          "execution_count": 10
        }
      ]
    },
    {
      "cell_type": "code",
      "source": [
        "# layer 2 - hidden activation layer\n",
        "# inputs to hidden layer: 3 x 2 = 6 (2-dimensional embedding and 3 of them)\n",
        "num_neurons = 100\n",
        "W1 = torch.randn((6, num_neurons))\n",
        "b1 = torch.randn(num_neurons)"
      ],
      "metadata": {
        "id": "ET9eDGVBrob6"
      },
      "execution_count": 11,
      "outputs": []
    },
    {
      "cell_type": "code",
      "source": [
        "# The following is what we want to do\n",
        "emb @ W1 + b1\n",
        "# But it will error out since  emb (32 x 3 x 2) and W1 (6 x 100) are not compatible"
      ],
      "metadata": {
        "colab": {
          "base_uri": "https://localhost:8080/",
          "height": 176
        },
        "id": "ffjS9_hcr9ti",
        "outputId": "98496263-2294-4a70-d319-79a133fd42a2"
      },
      "execution_count": 12,
      "outputs": [
        {
          "output_type": "error",
          "ename": "RuntimeError",
          "evalue": "mat1 and mat2 shapes cannot be multiplied (96x2 and 6x100)",
          "traceback": [
            "\u001b[0;31m---------------------------------------------------------------------------\u001b[0m",
            "\u001b[0;31mRuntimeError\u001b[0m                              Traceback (most recent call last)",
            "\u001b[0;32m<ipython-input-12-91a690890f3b>\u001b[0m in \u001b[0;36m<cell line: 0>\u001b[0;34m()\u001b[0m\n\u001b[1;32m      1\u001b[0m \u001b[0;31m# The following is what we want to do\u001b[0m\u001b[0;34m\u001b[0m\u001b[0;34m\u001b[0m\u001b[0m\n\u001b[0;32m----> 2\u001b[0;31m \u001b[0memb\u001b[0m \u001b[0;34m@\u001b[0m \u001b[0mW1\u001b[0m \u001b[0;34m+\u001b[0m \u001b[0mb1\u001b[0m\u001b[0;34m\u001b[0m\u001b[0;34m\u001b[0m\u001b[0m\n\u001b[0m\u001b[1;32m      3\u001b[0m \u001b[0;31m# But it will error out since  emb (32 x 3 x 2) and W1 (6 x 100) are not compatible\u001b[0m\u001b[0;34m\u001b[0m\u001b[0;34m\u001b[0m\u001b[0m\n",
            "\u001b[0;31mRuntimeError\u001b[0m: mat1 and mat2 shapes cannot be multiplied (96x2 and 6x100)"
          ]
        }
      ]
    },
    {
      "cell_type": "code",
      "source": [
        "# To fix the above error, we need to concatenate the (3 x 2 = 6 ) entries --> 32 x 3 x 2 --> 32 x 6\n",
        "print(emb[:, 0, :].shape)\n",
        "torch.cat((emb[:, 0, :], emb[:, 1, :], emb[:, 2, :]), 1).shape\n",
        "# Above code assumes block_size of 3 (0, 1, 2), so won't work if we change block_size"
      ],
      "metadata": {
        "colab": {
          "base_uri": "https://localhost:8080/"
        },
        "id": "UalxM7CquILj",
        "outputId": "2c3e9818-fe5a-416b-d1c1-00a5f1cbad89"
      },
      "execution_count": 13,
      "outputs": [
        {
          "output_type": "stream",
          "name": "stdout",
          "text": [
            "torch.Size([32, 2])\n"
          ]
        },
        {
          "output_type": "execute_result",
          "data": {
            "text/plain": [
              "torch.Size([32, 6])"
            ]
          },
          "metadata": {},
          "execution_count": 13
        }
      ]
    },
    {
      "cell_type": "code",
      "source": [
        "# Use unbind to fix above issue\n",
        "# The following code is independent of block_size\n",
        "ub = torch.unbind(emb, 1)\n",
        "print(len(ub))\n",
        "for i in range(len(ub)):\n",
        "  print(ub[i].shape)\n",
        "torch.cat(ub, 1).shape"
      ],
      "metadata": {
        "id": "uQ18JAge0dK8",
        "colab": {
          "base_uri": "https://localhost:8080/"
        },
        "outputId": "725a6d2e-e694-44a1-a5f5-2a62a2764966"
      },
      "execution_count": 14,
      "outputs": [
        {
          "output_type": "stream",
          "name": "stdout",
          "text": [
            "3\n",
            "torch.Size([32, 2])\n",
            "torch.Size([32, 2])\n",
            "torch.Size([32, 2])\n"
          ]
        },
        {
          "output_type": "execute_result",
          "data": {
            "text/plain": [
              "torch.Size([32, 6])"
            ]
          },
          "metadata": {},
          "execution_count": 14
        }
      ]
    },
    {
      "cell_type": "code",
      "source": [
        "# Alternative to unbind\n",
        "a = torch.arange(6)\n",
        "print(a)\n",
        "print(a.view(3, 2))\n",
        "print(a.view(2, 3))\n",
        "# View doesn't reallocate new memory, but merely changes how the tensor is 'viewed'\n",
        "print(emb.shape)\n",
        "emb.view(32, 6).shape"
      ],
      "metadata": {
        "colab": {
          "base_uri": "https://localhost:8080/"
        },
        "id": "hNciF2d8LKPb",
        "outputId": "9fc40518-95df-4356-a7e5-18dea067ce05"
      },
      "execution_count": 15,
      "outputs": [
        {
          "output_type": "stream",
          "name": "stdout",
          "text": [
            "tensor([0, 1, 2, 3, 4, 5])\n",
            "tensor([[0, 1],\n",
            "        [2, 3],\n",
            "        [4, 5]])\n",
            "tensor([[0, 1, 2],\n",
            "        [3, 4, 5]])\n",
            "torch.Size([32, 3, 2])\n"
          ]
        },
        {
          "output_type": "execute_result",
          "data": {
            "text/plain": [
              "torch.Size([32, 6])"
            ]
          },
          "metadata": {},
          "execution_count": 15
        }
      ]
    },
    {
      "cell_type": "code",
      "source": [
        "# Using .view instead of unbind\n",
        "h = emb.view(emb.shape[0], emb.shape[1]*emb.shape[2]) @ W1 + b1\n",
        "print(h.shape)\n",
        "h"
      ],
      "metadata": {
        "colab": {
          "base_uri": "https://localhost:8080/"
        },
        "id": "ETwMd0J-WSXb",
        "outputId": "0f5a55c5-6386-4360-b163-e131893049a7"
      },
      "execution_count": 16,
      "outputs": [
        {
          "output_type": "stream",
          "name": "stdout",
          "text": [
            "torch.Size([32, 100])\n"
          ]
        },
        {
          "output_type": "execute_result",
          "data": {
            "text/plain": [
              "tensor([[ 2.3300, -3.6589, -0.8923,  ...,  0.9275, -0.7548,  6.8407],\n",
              "        [ 0.8042, -3.0765, -2.2856,  ...,  0.1210, -1.1471,  4.1269],\n",
              "        [-0.9322,  0.2964, -2.4739,  ..., -2.1222, -0.5234, -0.7728],\n",
              "        ...,\n",
              "        [ 0.6332,  0.7084, -1.1054,  ..., -0.1273,  1.1170,  1.1981],\n",
              "        [ 5.1610,  4.7561, -0.2561,  ...,  0.1406,  1.8599,  0.3654],\n",
              "        [ 3.0950,  1.1185,  1.0605,  ..., -0.3582, -2.8355, -1.7521]])"
            ]
          },
          "metadata": {},
          "execution_count": 16
        }
      ]
    },
    {
      "cell_type": "code",
      "source": [
        "# Slight variation in using .view (compared to above cell)\n",
        "h = emb.view(-1, emb.shape[1]*emb.shape[2]) @ W1 + b1  # with -1, torch infers that dimension (in this case, 32)\n",
        "print(h.shape)"
      ],
      "metadata": {
        "id": "7ePMIedRX_5J",
        "colab": {
          "base_uri": "https://localhost:8080/"
        },
        "outputId": "99d17753-ee3c-4f60-9154-4334029e5563"
      },
      "execution_count": 17,
      "outputs": [
        {
          "output_type": "stream",
          "name": "stdout",
          "text": [
            "torch.Size([32, 100])\n"
          ]
        }
      ]
    },
    {
      "cell_type": "code",
      "source": [
        "# Double check if broadcasting is working correctly in the matrix multiplication/addition\n",
        "p = emb.view(-1, emb.shape[1]*emb.shape[2]) @ W1\n",
        "print(p.shape)\n",
        "print(b1.shape)\n",
        "# 32 x 100\n",
        "# 100\n",
        "#      100  broadcasting will align 100 to right\n",
        "# 1  x 100  create fake dimension 1 on left to get a row vector\n",
        "# Do row-wise addition. So the same bias-vector will be added element-wise to the rows.\n",
        "# This is what we want"
      ],
      "metadata": {
        "colab": {
          "base_uri": "https://localhost:8080/"
        },
        "id": "KZsPP0MsPZij",
        "outputId": "af6b4212-9886-4b77-bc9e-485ec0a9e9a2"
      },
      "execution_count": 18,
      "outputs": [
        {
          "output_type": "stream",
          "name": "stdout",
          "text": [
            "torch.Size([32, 100])\n",
            "torch.Size([100])\n"
          ]
        }
      ]
    },
    {
      "cell_type": "code",
      "source": [
        "# Now apply tanh activation. Each element will be between [-1, 1] inclusive\n",
        "h = torch.tanh(p + b1)\n",
        "print(h.shape)\n",
        "h"
      ],
      "metadata": {
        "colab": {
          "base_uri": "https://localhost:8080/"
        },
        "id": "CN82-zOwQdPR",
        "outputId": "e0cc5e70-b47a-4aa9-e781-196035c27f80"
      },
      "execution_count": 19,
      "outputs": [
        {
          "output_type": "stream",
          "name": "stdout",
          "text": [
            "torch.Size([32, 100])\n"
          ]
        },
        {
          "output_type": "execute_result",
          "data": {
            "text/plain": [
              "tensor([[ 0.9812, -0.9987, -0.7125,  ...,  0.7294, -0.6380,  1.0000],\n",
              "        [ 0.6664, -0.9958, -0.9795,  ...,  0.1204, -0.8168,  0.9995],\n",
              "        [-0.7316,  0.2880, -0.9859,  ..., -0.9717, -0.4803, -0.6486],\n",
              "        ...,\n",
              "        [ 0.5603,  0.6096, -0.8024,  ..., -0.1266,  0.8065,  0.8331],\n",
              "        [ 0.9999,  0.9999, -0.2507,  ...,  0.1397,  0.9527,  0.3500],\n",
              "        [ 0.9959,  0.8070,  0.7858,  ..., -0.3436, -0.9931, -0.9416]])"
            ]
          },
          "metadata": {},
          "execution_count": 19
        }
      ]
    },
    {
      "cell_type": "code",
      "source": [
        "# layer 3 - softmax layer\n",
        "print(h.shape[1])\n",
        "print(SZ)\n",
        "W2 = torch.randn(h.shape[1], SZ)\n",
        "b2 = torch.randn(SZ)\n",
        "print(W2.shape, b2.shape)"
      ],
      "metadata": {
        "colab": {
          "base_uri": "https://localhost:8080/"
        },
        "id": "Cb1yXPf1Skt_",
        "outputId": "f6754988-2b5c-49b6-94db-d9186bcb85aa"
      },
      "execution_count": 20,
      "outputs": [
        {
          "output_type": "stream",
          "name": "stdout",
          "text": [
            "100\n",
            "27\n",
            "torch.Size([100, 27]) torch.Size([27])\n"
          ]
        }
      ]
    },
    {
      "cell_type": "code",
      "source": [
        "# Calculate logits\n",
        "logits = h @ W2 + b2\n",
        "logits.shape"
      ],
      "metadata": {
        "colab": {
          "base_uri": "https://localhost:8080/"
        },
        "id": "gTr5oy8oTqKu",
        "outputId": "9772fd06-01c3-43f4-f387-f7cc0bfc112a"
      },
      "execution_count": 21,
      "outputs": [
        {
          "output_type": "execute_result",
          "data": {
            "text/plain": [
              "torch.Size([32, 27])"
            ]
          },
          "metadata": {},
          "execution_count": 21
        }
      ]
    },
    {
      "cell_type": "code",
      "source": [
        "# exponentiate to get fake counts\n",
        "counts = logits.exp()\n",
        "counts.shape"
      ],
      "metadata": {
        "colab": {
          "base_uri": "https://localhost:8080/"
        },
        "id": "VfHZ02FWUL-F",
        "outputId": "86d66040-d75b-4666-e17c-857e7508f441"
      },
      "execution_count": 22,
      "outputs": [
        {
          "output_type": "execute_result",
          "data": {
            "text/plain": [
              "torch.Size([32, 27])"
            ]
          },
          "metadata": {},
          "execution_count": 22
        }
      ]
    },
    {
      "cell_type": "code",
      "source": [
        "# compute probabilities\n",
        "prob = counts / counts.sum(1, keepdims=True)\n",
        "prob.shape"
      ],
      "metadata": {
        "colab": {
          "base_uri": "https://localhost:8080/"
        },
        "id": "lIr0uDwVU4Dt",
        "outputId": "6d94eb06-ba3b-40fa-f16a-2e2b360b27d2"
      },
      "execution_count": 23,
      "outputs": [
        {
          "output_type": "execute_result",
          "data": {
            "text/plain": [
              "torch.Size([32, 27])"
            ]
          },
          "metadata": {},
          "execution_count": 23
        }
      ]
    },
    {
      "cell_type": "code",
      "source": [
        "# print the actual Y values\n",
        "Y"
      ],
      "metadata": {
        "colab": {
          "base_uri": "https://localhost:8080/"
        },
        "id": "-4JLoCn7VSTV",
        "outputId": "0752ec6c-e0b1-49ee-e8f8-f2c361a1b955"
      },
      "execution_count": 24,
      "outputs": [
        {
          "output_type": "execute_result",
          "data": {
            "text/plain": [
              "tensor([ 5, 13, 13,  1,  0, 15, 12,  9, 22,  9,  1,  0,  1, 22,  1,  0,  9, 19,\n",
              "         1,  2,  5, 12, 12,  1,  0, 19, 15, 16,  8,  9,  1,  0])"
            ]
          },
          "metadata": {},
          "execution_count": 24
        }
      ]
    },
    {
      "cell_type": "code",
      "source": [
        "# infer the predicted Y values from the probabilites\n",
        "print(torch.arange(prob.shape[0]))\n",
        "Y_pred = prob[torch.arange(prob.shape[0]), Y]\n",
        "print(Y_pred)  # the probability for the index corresponding to actual Y values\n",
        "# we haven't trained the model yet, ideal values for the probability would be 1"
      ],
      "metadata": {
        "colab": {
          "base_uri": "https://localhost:8080/"
        },
        "id": "enVgf61FV_vM",
        "outputId": "bbfb048e-02f7-4122-c904-90ee27ad0055"
      },
      "execution_count": 25,
      "outputs": [
        {
          "output_type": "stream",
          "name": "stdout",
          "text": [
            "tensor([ 0,  1,  2,  3,  4,  5,  6,  7,  8,  9, 10, 11, 12, 13, 14, 15, 16, 17,\n",
            "        18, 19, 20, 21, 22, 23, 24, 25, 26, 27, 28, 29, 30, 31])\n",
            "tensor([3.7099e-06, 1.8260e-12, 6.9399e-08, 1.3142e-07, 1.5175e-07, 3.1891e-04,\n",
            "        2.0369e-14, 1.1837e-11, 2.2383e-02, 6.1461e-15, 2.1298e-10, 6.3829e-06,\n",
            "        3.9745e-05, 2.3902e-09, 1.6939e-09, 2.6457e-01, 4.6574e-13, 7.6448e-08,\n",
            "        3.1315e-04, 2.5768e-02, 4.9483e-05, 2.6173e-11, 3.6335e-18, 7.0119e-10,\n",
            "        9.1453e-03, 6.7700e-04, 5.6020e-10, 3.1781e-06, 5.1982e-13, 8.1723e-16,\n",
            "        3.8148e-07, 1.9201e-11])\n"
          ]
        }
      ]
    },
    {
      "cell_type": "code",
      "source": [
        "# calculate the loss - remember, loss is to be minimized\n",
        "loss = -Y_pred.log().mean()\n",
        "print(loss)\n",
        "# an alternate way to calculate loss\n",
        "# cross entropy is a much better way:\n",
        "# 1. efficient in terms of compute & memory\n",
        "# 2. for large positive values, exp() results in nan\n",
        "#    cross_entropy takes care of that\n",
        "F.cross_entropy(logits, Y)"
      ],
      "metadata": {
        "colab": {
          "base_uri": "https://localhost:8080/"
        },
        "id": "wyDTBE32WfRL",
        "outputId": "f70a7717-ee0b-48d0-a9e4-00242df5e004"
      },
      "execution_count": 26,
      "outputs": [
        {
          "output_type": "stream",
          "name": "stdout",
          "text": [
            "tensor(17.9694)\n"
          ]
        },
        {
          "output_type": "execute_result",
          "data": {
            "text/plain": [
              "tensor(17.9694)"
            ]
          },
          "metadata": {},
          "execution_count": 26
        }
      ]
    },
    {
      "cell_type": "code",
      "source": [
        "######################### put everything together #########################"
      ],
      "metadata": {
        "id": "5RNxpGVGMuiT"
      },
      "execution_count": 27,
      "outputs": []
    },
    {
      "cell_type": "code",
      "source": [
        "# build the dataset with train/dev/test splits\n",
        "def build_dataset(words, dataset_type):\n",
        "  block_sz = 3\n",
        "  X, Y = [], []\n",
        "  for w in words:\n",
        "    #print(w)\n",
        "    context = [0] * block_sz\n",
        "    for c in w + '.':\n",
        "      ix = stoi[c]\n",
        "      X.append(context)\n",
        "      Y.append(ix)\n",
        "      #print(''.join(itos[i] for i in context), '----->', itos[ix])\n",
        "      context = context[1:] + [ix]\n",
        "\n",
        "  X = torch.tensor(X)\n",
        "  Y = torch.tensor(Y)\n",
        "  print(f'{dataset_type} set, #words: {len(words)}, X: {X.shape}, Y: {Y.shape}')  # dataset\n",
        "  return X, Y\n",
        "\n",
        "import random\n",
        "random.seed(42)\n",
        "random.shuffle(words)\n",
        "num_words = len(words)\n",
        "n1 = int(0.8*num_words)\n",
        "n2 = int(0.9*num_words)\n",
        "\n",
        "X_train, Y_train = build_dataset(words[:n1], 'Training')\n",
        "X_dev, Y_dev = build_dataset(words[n1:n2], 'Validation/Dev')\n",
        "X_test, Y_test = build_dataset(words[n2:], 'Test')"
      ],
      "metadata": {
        "colab": {
          "base_uri": "https://localhost:8080/"
        },
        "id": "EueDGvVMX1VK",
        "outputId": "c7cabaf4-c087-49d9-dd57-b45756790647"
      },
      "execution_count": 28,
      "outputs": [
        {
          "output_type": "stream",
          "name": "stdout",
          "text": [
            "Training set, #words: 25626, X: torch.Size([182625, 3]), Y: torch.Size([182625])\n",
            "Validation/Dev set, #words: 3203, X: torch.Size([22655, 3]), Y: torch.Size([22655])\n",
            "Test set, #words: 3204, X: torch.Size([22866, 3]), Y: torch.Size([22866])\n"
          ]
        }
      ]
    },
    {
      "cell_type": "code",
      "source": [
        "# initialize all the parameters\n",
        "num_neurons = 200\n",
        "n_dim = 10  # embed input chars into 2-dimensional space\n",
        "g = torch.Generator().manual_seed(2147483647)  # reproducibility\n",
        "C = torch.randn((SZ, n_dim), generator=g)  # for embedding SZ input chars into 2-dimensional space\n",
        "W1 = torch.rand((block_sz*n_dim, num_neurons), generator=g)\n",
        "b1 = torch.randn(num_neurons, generator=g)\n",
        "W2 = torch.randn((num_neurons, SZ), generator=g)\n",
        "b2 = torch.randn(SZ, generator=g)\n",
        "parameters = [C, W1, b1, W2, b2]"
      ],
      "metadata": {
        "id": "YPP-TqKRYPU5"
      },
      "execution_count": 45,
      "outputs": []
    },
    {
      "cell_type": "code",
      "source": [
        "# check number of parameters - just like LLMs advertise\n",
        "sum(p.nelement() for p in parameters)"
      ],
      "metadata": {
        "colab": {
          "base_uri": "https://localhost:8080/"
        },
        "id": "8bFdxLmTfCLb",
        "outputId": "2195f876-63e4-40d0-881d-e03a5619f137"
      },
      "execution_count": 46,
      "outputs": [
        {
          "output_type": "execute_result",
          "data": {
            "text/plain": [
              "11897"
            ]
          },
          "metadata": {},
          "execution_count": 46
        }
      ]
    },
    {
      "cell_type": "code",
      "source": [
        "for p in parameters:\n",
        "  p.requires_grad = True"
      ],
      "metadata": {
        "id": "Sz4aqNac3ym2"
      },
      "execution_count": 47,
      "outputs": []
    },
    {
      "cell_type": "code",
      "source": [
        "# determine good learning rate\n",
        "# 1st determine range (0.001, 1)\n",
        "# traverse the range exponentially, instead of linearly\n",
        "#   low in the beginning, high in the end\n",
        "lre = torch.linspace(-3, 0, 1000)\n",
        "lrs = 10**lre\n",
        "plt.plot(lre, lrs)"
      ],
      "metadata": {
        "colab": {
          "base_uri": "https://localhost:8080/",
          "height": 447
        },
        "id": "GNy8x0LcIVHg",
        "outputId": "22f1a4f6-55a0-4c33-b4ab-145c866a95b3"
      },
      "execution_count": 48,
      "outputs": [
        {
          "output_type": "execute_result",
          "data": {
            "text/plain": [
              "[<matplotlib.lines.Line2D at 0x7fa10485c610>]"
            ]
          },
          "metadata": {},
          "execution_count": 48
        },
        {
          "output_type": "display_data",
          "data": {
            "text/plain": [
              "<Figure size 640x480 with 1 Axes>"
            ],
            "image/png": "[encoded data removed]"
          },
          "metadata": {}
        }
      ]
    },
    {
      "cell_type": "code",
      "source": [
        "lri = []\n",
        "lossi = []\n",
        "stepi = []"
      ],
      "metadata": {
        "id": "eEOrXdG-MmZ0"
      },
      "execution_count": 49,
      "outputs": []
    },
    {
      "cell_type": "code",
      "source": [
        "niter = 200000\n",
        "lr1 = 0.1  # best learning rate determined experimentally\n",
        "lr2 = 0.01  # learning rate decay (to be used after 'lr' has plateaued)\n",
        "for i in range(niter):\n",
        "\n",
        "  # minibatch construct\n",
        "  ix = torch.randint(0, X_train.shape[0], (32,))\n",
        "\n",
        "  # forward pass\n",
        "  emb = C[X_train[ix]]  # 32 x 3 x 2\n",
        "  h = torch.tanh(emb.view(-1, emb.shape[1]*emb.shape[2]) @ W1 + b1)  # 32 x 100\n",
        "  logits = h @ W2 + b2  # 32 x 27\n",
        "  loss = F.cross_entropy(logits, Y_train[ix])\n",
        "  # print(loss.item())\n",
        "\n",
        "  # backward pass\n",
        "  for p in parameters:\n",
        "    p.grad = None\n",
        "  loss.backward()\n",
        "\n",
        "  # update parameters\n",
        "  lr = lr1 if i < 100000 else lr2\n",
        "  for p in parameters:\n",
        "    # p.data += -lr * p.grad\n",
        "    p.data += -lr2 * p.grad  # use learning rate decay, after lr has plateaued\n",
        "\n",
        "  # track stats\n",
        "  # lri.append(lre[i])  # learning rate\n",
        "  stepi.append(i)\n",
        "  lossi.append(loss.log10().item())  # loss\n",
        "print(loss.item())"
      ],
      "metadata": {
        "colab": {
          "base_uri": "https://localhost:8080/"
        },
        "id": "r0LvcPl534ms",
        "outputId": "1e9b3c4f-5376-41a5-ad83-7963b50b2031"
      },
      "execution_count": 61,
      "outputs": [
        {
          "output_type": "stream",
          "name": "stdout",
          "text": [
            "1.943627119064331\n"
          ]
        }
      ]
    },
    {
      "cell_type": "code",
      "source": [
        "plt.plot(stepi, lossi)"
      ],
      "metadata": {
        "colab": {
          "base_uri": "https://localhost:8080/",
          "height": 447
        },
        "id": "M1fKpwV9lpXb",
        "outputId": "ccf04452-7ed7-47f0-b6f5-e8b4f2ca9697"
      },
      "execution_count": 62,
      "outputs": [
        {
          "output_type": "execute_result",
          "data": {
            "text/plain": [
              "[<matplotlib.lines.Line2D at 0x7fa0f03452d0>]"
            ]
          },
          "metadata": {},
          "execution_count": 62
        },
        {
          "output_type": "display_data",
          "data": {
            "text/plain": [
              "<Figure size 640x480 with 1 Axes>"
            ],
            "image/png": "[encoded data removed]"
          },
          "metadata": {}
        }
      ]
    },
    {
      "cell_type": "code",
      "source": [
        "# use train dataset (instead of minibatch) for inference & final loss computation\n",
        "emb = C[X_train]\n",
        "h = torch.tanh(emb.view(-1, emb.shape[1]*emb.shape[2]) @ W1 + b1)\n",
        "logits = h @ W2 + b2\n",
        "loss = F.cross_entropy(logits, Y_train)\n",
        "loss"
      ],
      "metadata": {
        "colab": {
          "base_uri": "https://localhost:8080/"
        },
        "id": "qDx3joDekpw8",
        "outputId": "6022a65d-aed7-47d3-aa71-5327fde986ab"
      },
      "execution_count": 63,
      "outputs": [
        {
          "output_type": "execute_result",
          "data": {
            "text/plain": [
              "tensor(2.1295, grad_fn=<NllLossBackward0>)"
            ]
          },
          "metadata": {},
          "execution_count": 63
        }
      ]
    },
    {
      "cell_type": "code",
      "source": [
        "# use Validation/Dev dataset (instead of minibatch) for inference & final loss computation\n",
        "emb = C[X_dev]\n",
        "h = torch.tanh(emb.view(-1, emb.shape[1]*emb.shape[2]) @ W1 + b1)\n",
        "logits = h @ W2 + b2\n",
        "loss = F.cross_entropy(logits, Y_dev)\n",
        "loss"
      ],
      "metadata": {
        "colab": {
          "base_uri": "https://localhost:8080/"
        },
        "id": "BrsmAhTJ_6FF",
        "outputId": "278f4620-6494-42c0-f881-ff34c30366d2"
      },
      "execution_count": 64,
      "outputs": [
        {
          "output_type": "execute_result",
          "data": {
            "text/plain": [
              "tensor(2.1570, grad_fn=<NllLossBackward0>)"
            ]
          },
          "metadata": {},
          "execution_count": 64
        }
      ]
    },
    {
      "cell_type": "code",
      "source": [
        "# split data into\n",
        "#   train set (80%)\n",
        "#     optimize parameters of the model (weights) using gradient descent\n",
        "#   dev/validation set (10%)\n",
        "#     hyperparameter tuning\n",
        "#       size of hidden layer 1\n",
        "#       size of embedding, #neurons in 2nd layer\n",
        "#       strength of regularization\n",
        "#\n",
        "#   test set (10%)"
      ],
      "metadata": {
        "id": "74JmFrQSJlsl"
      },
      "execution_count": 73,
      "outputs": []
    },
    {
      "cell_type": "code",
      "source": [
        "# Visualize embeddings\n",
        "# vowels closeby, 'q', 'g', '.' isolated, rest clustered\n",
        "print(C.shape)\n",
        "plt.figure(figsize=(8,8))\n",
        "plt.scatter(C[:,0].data, C[:,1].data, s=200)\n",
        "for i in range(C.shape[0]):\n",
        "  plt.text(C[i,0].item(), C[i,1].item(), itos[i], ha='center', va='center', color='white')\n",
        "plt.grid('minor')"
      ],
      "metadata": {
        "colab": {
          "base_uri": "https://localhost:8080/",
          "height": 693
        },
        "id": "lfFB24DeIwGm",
        "outputId": "a00ba5f0-1d02-4907-95a4-3b2e3683fb3a"
      },
      "execution_count": 59,
      "outputs": [
        {
          "output_type": "stream",
          "name": "stdout",
          "text": [
            "torch.Size([27, 10])\n"
          ]
        },
        {
          "output_type": "display_data",
          "data": {
            "text/plain": [
              "<Figure size 800x800 with 1 Axes>"
            ],
            "image/png": "[encoded data removed]"
          },
          "metadata": {}
        }
      ]
    },
    {
      "cell_type": "code",
      "source": [
        "# sample from the model\n",
        "g = torch.Generator().manual_seed(2147483647 + 10)\n",
        "for _ in range(20):\n",
        "  out = []\n",
        "  context = [0] * block_sz  # initialize with all ...\n",
        "  while True:\n",
        "    emb = C[torch.tensor([context])]  # 1 x block_size x dimensions\n",
        "    h = torch.tanh(emb.view(1, -1) @ W1 + b1)\n",
        "    logits = h @ W2 + b2\n",
        "    probs = F.softmax(logits, dim=1)  # exponent logits, then sum to 1\n",
        "    ix = torch.multinomial(probs, num_samples=1, replacement=True, generator=g).item()  # sample probabilities\n",
        "    context = context[1:] + [ix]\n",
        "    out.append(ix)\n",
        "    if ix == 0:\n",
        "      break\n",
        "  print(''.join(itos[i] for i in out))"
      ],
      "metadata": {
        "colab": {
          "base_uri": "https://localhost:8080/"
        },
        "id": "szXRRgvHooeb",
        "outputId": "b5e5891c-1c9d-4d5d-f135-4aefd4728e20"
      },
      "execution_count": 66,
      "outputs": [
        {
          "output_type": "stream",
          "name": "stdout",
          "text": [
            "mona.\n",
            "mayah.\n",
            "seel.\n",
            "niyah.\n",
            "lorethan.\n",
            "endraeg.\n",
            "adeerdielin.\n",
            "shi.\n",
            "jenne.\n",
            "elieananar.\n",
            "kayziah.\n",
            "karin.\n",
            "shabergioghine.\n",
            "kin.\n",
            "reth.\n",
            "konnie.\n",
            "cayus.\n",
            "kavda.\n",
            "kylenizeks.\n",
            "kayjahsi.\n"
          ]
        }
      ]
    },
    {
      "cell_type": "code",
      "source": [],
      "metadata": {
        "id": "YA4shJD1Qi9B"
      },
      "execution_count": null,
      "outputs": []
    }
  ]
}